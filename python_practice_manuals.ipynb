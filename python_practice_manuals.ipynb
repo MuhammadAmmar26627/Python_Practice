{
 "cells": [
  {
   "cell_type": "markdown",
   "id": "0ad50b69",
   "metadata": {
    "toc": true
   },
   "source": [
    "<h1>Table of Contents<span class=\"tocSkip\"></span></h1>\n",
    "<div class=\"toc\"><ul class=\"toc-item\"><li><span><a href=\"#Git\" data-toc-modified-id=\"Git-1\"><span class=\"toc-item-num\">1&nbsp;&nbsp;</span>Git</a></span><ul class=\"toc-item\"><li><span><a href=\"#Git-important-commands-related-to-github\" data-toc-modified-id=\"Git-important-commands-related-to-github-1.1\"><span class=\"toc-item-num\">1.1&nbsp;&nbsp;</span>Git important commands related to github</a></span><ul class=\"toc-item\"><li><span><a href=\"#git-status\" data-toc-modified-id=\"git-status-1.1.1\"><span class=\"toc-item-num\">1.1.1&nbsp;&nbsp;</span>git status</a></span></li><li><span><a href=\"#git-log\" data-toc-modified-id=\"git-log-1.1.2\"><span class=\"toc-item-num\">1.1.2&nbsp;&nbsp;</span>git log</a></span></li><li><span><a href=\"#git-add-(file_name)\" data-toc-modified-id=\"git-add-(file_name)-1.1.3\"><span class=\"toc-item-num\">1.1.3&nbsp;&nbsp;</span>git add (file_name)</a></span></li><li><span><a href=\"#git-add-.\" data-toc-modified-id=\"git-add-.-1.1.4\"><span class=\"toc-item-num\">1.1.4&nbsp;&nbsp;</span>git add .</a></span></li><li><span><a href=\"#git-commit--m-'add-commit-message'\" data-toc-modified-id=\"git-commit--m-'add-commit-message'-1.1.5\"><span class=\"toc-item-num\">1.1.5&nbsp;&nbsp;</span>git commit -m 'add commit message'</a></span></li><li><span><a href=\"#git-diff\" data-toc-modified-id=\"git-diff-1.1.6\"><span class=\"toc-item-num\">1.1.6&nbsp;&nbsp;</span>git diff</a></span></li><li><span><a href=\"#git-diff---staged\" data-toc-modified-id=\"git-diff---staged-1.1.7\"><span class=\"toc-item-num\">1.1.7&nbsp;&nbsp;</span>git diff --staged</a></span></li><li><span><a href=\"#git-checkout-file-name\" data-toc-modified-id=\"git-checkout-file-name-1.1.8\"><span class=\"toc-item-num\">1.1.8&nbsp;&nbsp;</span>git checkout file name</a></span></li><li><span><a href=\"#git-checkout--f\" data-toc-modified-id=\"git-checkout--f-1.1.9\"><span class=\"toc-item-num\">1.1.9&nbsp;&nbsp;</span>git checkout -f</a></span></li><li><span><a href=\"#touch-(file-name)-/-touch-.gitignore\" data-toc-modified-id=\"touch-(file-name)-/-touch-.gitignore-1.1.10\"><span class=\"toc-item-num\">1.1.10&nbsp;&nbsp;</span>touch (file name) / touch .gitignore</a></span></li><li><span><a href=\"#git-remote-add-origin-URL\" data-toc-modified-id=\"git-remote-add-origin-URL-1.1.11\"><span class=\"toc-item-num\">1.1.11&nbsp;&nbsp;</span>git remote add origin URL</a></span></li><li><span><a href=\"#git-remote\" data-toc-modified-id=\"git-remote-1.1.12\"><span class=\"toc-item-num\">1.1.12&nbsp;&nbsp;</span>git remote</a></span></li><li><span><a href=\"#git-remote--v\" data-toc-modified-id=\"git-remote--v-1.1.13\"><span class=\"toc-item-num\">1.1.13&nbsp;&nbsp;</span>git remote -v</a></span></li><li><span><a href=\"#git-branch\" data-toc-modified-id=\"git-branch-1.1.14\"><span class=\"toc-item-num\">1.1.14&nbsp;&nbsp;</span>git branch</a></span></li><li><span><a href=\"#git-branch--r\" data-toc-modified-id=\"git-branch--r-1.1.15\"><span class=\"toc-item-num\">1.1.15&nbsp;&nbsp;</span>git branch -r</a></span></li><li><span><a href=\"#git-branch--a\" data-toc-modified-id=\"git-branch--a-1.1.16\"><span class=\"toc-item-num\">1.1.16&nbsp;&nbsp;</span>git branch -a</a></span></li><li><span><a href=\"#ls\" data-toc-modified-id=\"ls-1.1.17\"><span class=\"toc-item-num\">1.1.17&nbsp;&nbsp;</span>ls</a></span></li><li><span><a href=\"#pwd\" data-toc-modified-id=\"pwd-1.1.18\"><span class=\"toc-item-num\">1.1.18&nbsp;&nbsp;</span>pwd</a></span></li><li><span><a href=\"#cd-(path)\" data-toc-modified-id=\"cd-(path)-1.1.19\"><span class=\"toc-item-num\">1.1.19&nbsp;&nbsp;</span>cd (path)</a></span></li></ul></li><li><span><a href=\"#Git-important-commands-general\" data-toc-modified-id=\"Git-important-commands-general-1.2\"><span class=\"toc-item-num\">1.2&nbsp;&nbsp;</span>Git important commands general</a></span><ul class=\"toc-item\"><li><span><a href=\"#git-rm-(file-name)\" data-toc-modified-id=\"git-rm-(file-name)-1.2.1\"><span class=\"toc-item-num\">1.2.1&nbsp;&nbsp;</span>git rm (file name)</a></span></li><li><span><a href=\"#git-mv-(filename)-(newfile-name)\" data-toc-modified-id=\"git-mv-(filename)-(newfile-name)-1.2.2\"><span class=\"toc-item-num\">1.2.2&nbsp;&nbsp;</span>git mv (filename) (newfile name)</a></span></li></ul></li></ul></li><li><span><a href=\"#Python-Practice\" data-toc-modified-id=\"Python-Practice-2\"><span class=\"toc-item-num\">2&nbsp;&nbsp;</span>Python Practice</a></span><ul class=\"toc-item\"><li><span><a href=\"#Manual-1\" data-toc-modified-id=\"Manual-1-2.1\"><span class=\"toc-item-num\">2.1&nbsp;&nbsp;</span>Manual 1</a></span><ul class=\"toc-item\"><li><ul class=\"toc-item\"><li><span><a href=\"#for-loop-with-else\" data-toc-modified-id=\"for-loop-with-else-2.1.0.1\"><span class=\"toc-item-num\">2.1.0.1&nbsp;&nbsp;</span>for loop with else</a></span></li><li><span><a href=\"#String-Reversal\" data-toc-modified-id=\"String-Reversal-2.1.0.2\"><span class=\"toc-item-num\">2.1.0.2&nbsp;&nbsp;</span>String Reversal</a></span></li><li><span><a href=\"#list-slicing\" data-toc-modified-id=\"list-slicing-2.1.0.3\"><span class=\"toc-item-num\">2.1.0.3&nbsp;&nbsp;</span>list slicing</a></span></li><li><span><a href=\"#Scope-of-variable-(Local-and-Global)\" data-toc-modified-id=\"Scope-of-variable-(Local-and-Global)-2.1.0.4\"><span class=\"toc-item-num\">2.1.0.4&nbsp;&nbsp;</span>Scope of variable (Local and Global)</a></span></li><li><span><a href=\"#Tuples-are-immutable\" data-toc-modified-id=\"Tuples-are-immutable-2.1.0.5\"><span class=\"toc-item-num\">2.1.0.5&nbsp;&nbsp;</span>Tuples are immutable</a></span></li><li><span><a href=\"#Dictionary-Comprehension:\" data-toc-modified-id=\"Dictionary-Comprehension:-2.1.0.6\"><span class=\"toc-item-num\">2.1.0.6&nbsp;&nbsp;</span>Dictionary Comprehension:</a></span></li><li><span><a href=\"#Recursive-Function-Memoization-with-Function-Decorator\" data-toc-modified-id=\"Recursive-Function-Memoization-with-Function-Decorator-2.1.0.7\"><span class=\"toc-item-num\">2.1.0.7&nbsp;&nbsp;</span>Recursive Function Memoization with Function Decorator</a></span></li><li><span><a href=\"#Anonymous-Functions-&amp;-Sorting\" data-toc-modified-id=\"Anonymous-Functions-&amp;-Sorting-2.1.0.8\"><span class=\"toc-item-num\">2.1.0.8&nbsp;&nbsp;</span>Anonymous Functions &amp; Sorting</a></span></li><li><span><a href=\"#Sorting-a-Tuple:\" data-toc-modified-id=\"Sorting-a-Tuple:-2.1.0.9\"><span class=\"toc-item-num\">2.1.0.9&nbsp;&nbsp;</span>Sorting a Tuple:</a></span></li><li><span><a href=\"#Sorting-a-set\" data-toc-modified-id=\"Sorting-a-set-2.1.0.10\"><span class=\"toc-item-num\">2.1.0.10&nbsp;&nbsp;</span>Sorting a set</a></span></li><li><span><a href=\"#Sorting-a-Dictionary:\" data-toc-modified-id=\"Sorting-a-Dictionary:-2.1.0.11\"><span class=\"toc-item-num\">2.1.0.11&nbsp;&nbsp;</span>Sorting a Dictionary:</a></span></li><li><span><a href=\"#sorting-list-of-dictionary\" data-toc-modified-id=\"sorting-list-of-dictionary-2.1.0.12\"><span class=\"toc-item-num\">2.1.0.12&nbsp;&nbsp;</span>sorting list of dictionary</a></span></li></ul></li><li><span><a href=\"#Multilevel-Sorting\" data-toc-modified-id=\"Multilevel-Sorting-2.1.1\"><span class=\"toc-item-num\">2.1.1&nbsp;&nbsp;</span>Multilevel Sorting</a></span><ul class=\"toc-item\"><li><span><a href=\"#What-is-iterator?\" data-toc-modified-id=\"What-is-iterator?-2.1.1.1\"><span class=\"toc-item-num\">2.1.1.1&nbsp;&nbsp;</span>What is iterator?</a></span></li></ul></li></ul></li></ul></li></ul></div>"
   ]
  },
  {
   "cell_type": "markdown",
   "id": "7ac4b271",
   "metadata": {},
   "source": [
    "# Git\n",
    "## Git important commands related to github"
   ]
  },
  {
   "cell_type": "markdown",
   "id": "17ad4e52",
   "metadata": {
    "heading_collapsed": true
   },
   "source": [
    "### git status\n",
    "it is use to show the status\n",
    "### git log \n",
    "it is use to show previous commit\n",
    "### git add (file_name)\n",
    "track specific file\n",
    "### git add .\n",
    "track all files\n",
    "### git commit -m 'add commit message'\n",
    "submit all changing with message\n",
    "### git diff\n",
    "git diff show staged file vs current file\n",
    "### git diff --staged\n",
    "git diff show staged file vs last commit\n",
    "### git checkout file name\n",
    "return modified file to staged file and remove all changes in modified files\n",
    "### git checkout -f\n",
    "return to last commit and remove all changings \n",
    "### touch (file name) / touch .gitignore\n",
    "use to create file in linux\n",
    "### git remote add origin URL\n",
    "add remote origin to push\n",
    "### git remote\n",
    "to check remote origins\n",
    "### git remote -v\n",
    "to check local and remote origins\n",
    "### git branch\n",
    "for local branch\n",
    "### git branch -r\n",
    "for remote branch\n",
    "### git branch -a\n",
    "for all branch\n",
    "### ls\n",
    "use to list items or file in folder\n",
    "### pwd\n",
    "current working directory\n",
    "### cd (path)\n",
    "to swith pwd"
   ]
  },
  {
   "cell_type": "markdown",
   "id": "6043e286",
   "metadata": {
    "hidden": true
   },
   "source": [
    "<hr>\n",
    "\n",
    "## Git important commands general"
   ]
  },
  {
   "cell_type": "markdown",
   "id": "509f1a29",
   "metadata": {},
   "source": [
    "### git rm (file name)\n",
    "remove file\n",
    "### git mv (filename) (newfile name)\n",
    "change file name or dir"
   ]
  },
  {
   "cell_type": "markdown",
   "id": "e1d8c86c",
   "metadata": {},
   "source": [
    "<hr>\n",
    "\n",
    "# Python Practice\n",
    "## Manual 1\n",
    "Python is Python is an interpreted language, which means it execute line by line"
   ]
  },
  {
   "cell_type": "markdown",
   "id": "ffc1d3ec",
   "metadata": {},
   "source": [
    "#### for loop with else\n",
    "This time you will see the else block getting executed. So how is the else of a loop related to break\n",
    "statement?\n",
    "If a loop doesn’t get terminated by the break statement, the else block will get executed"
   ]
  },
  {
   "cell_type": "code",
   "execution_count": 7,
   "id": "cc5d2df1",
   "metadata": {
    "ExecuteTime": {
     "end_time": "2023-05-06T15:52:30.774657Z",
     "start_time": "2023-05-06T15:52:30.765969Z"
    }
   },
   "outputs": [
    {
     "name": "stdout",
     "output_type": "stream",
     "text": [
      "0\n",
      "1\n",
      "2\n",
      "3\n",
      "4\n",
      "Outside For Loop.\n"
     ]
    }
   ],
   "source": [
    "for i in range(5):\n",
    "    if(i==150):\n",
    "        break\n",
    "    print(i)\n",
    "else:\n",
    "    print(\"Outside For Loop.\")"
   ]
  },
  {
   "cell_type": "markdown",
   "id": "3a6ae680",
   "metadata": {},
   "source": [
    "#### String Reversal"
   ]
  },
  {
   "cell_type": "code",
   "execution_count": 10,
   "id": "77fdfc7c",
   "metadata": {
    "ExecuteTime": {
     "end_time": "2023-05-06T16:49:28.798372Z",
     "start_time": "2023-05-06T16:49:28.789108Z"
    }
   },
   "outputs": [
    {
     "data": {
      "text/plain": [
       "'elppa'"
      ]
     },
     "execution_count": 10,
     "metadata": {},
     "output_type": "execute_result"
    }
   ],
   "source": [
    "string='apple'\n",
    "string[::-1]"
   ]
  },
  {
   "cell_type": "markdown",
   "id": "ebae9c6d",
   "metadata": {},
   "source": [
    "#### list slicing\n",
    "a[start:end:step]"
   ]
  },
  {
   "cell_type": "code",
   "execution_count": 11,
   "id": "ff1d22df",
   "metadata": {
    "ExecuteTime": {
     "end_time": "2023-05-06T17:11:17.647630Z",
     "start_time": "2023-05-06T17:11:17.642975Z"
    }
   },
   "outputs": [
    {
     "name": "stdout",
     "output_type": "stream",
     "text": [
      "[5, 6, 7, 8, 9, 10, 11]\n"
     ]
    }
   ],
   "source": [
    "a=list(range(1,21))\n",
    "print(a[4:11])"
   ]
  },
  {
   "cell_type": "markdown",
   "id": "6b33e9fa",
   "metadata": {},
   "source": [
    "#### Scope of variable (Local and Global)\n",
    "##### The LEGB Rule:\n",
    "The variable scope follows the LEGB rule where:\n",
    "<ul>\n",
    "    <li>L → Local</li>\n",
    "    <li>E → Enclosing</li>\n",
    "    <li>G → Global</li>\n",
    "    <li>B → Built-in</li>\n",
    "    \n",
    "</ul>\n",
    "It means that when a variable is used in any function, the interpreter will first find that in the Local \n",
    "Domain of that location of code. If found, that value will be used for that variable. If not found, the \n",
    "interpreter will look into the Enclosed Domain and if not found it will move to the Global Domain. If it \n",
    "not there in the Global Domain, it will move to the Built-in Domain. The Built-ins are preset Python \n",
    "variables and you can find all of those by running this code:"
   ]
  },
  {
   "cell_type": "code",
   "execution_count": 12,
   "id": "1829d60c",
   "metadata": {
    "ExecuteTime": {
     "end_time": "2023-05-06T17:14:42.778809Z",
     "start_time": "2023-05-06T17:14:42.768000Z"
    }
   },
   "outputs": [
    {
     "name": "stdout",
     "output_type": "stream",
     "text": [
      "['ArithmeticError', 'AssertionError', 'AttributeError', 'BaseException', 'BaseExceptionGroup', 'BlockingIOError', 'BrokenPipeError', 'BufferError', 'BytesWarning', 'ChildProcessError', 'ConnectionAbortedError', 'ConnectionError', 'ConnectionRefusedError', 'ConnectionResetError', 'DeprecationWarning', 'EOFError', 'Ellipsis', 'EncodingWarning', 'EnvironmentError', 'Exception', 'ExceptionGroup', 'False', 'FileExistsError', 'FileNotFoundError', 'FloatingPointError', 'FutureWarning', 'GeneratorExit', 'IOError', 'ImportError', 'ImportWarning', 'IndentationError', 'IndexError', 'InterruptedError', 'IsADirectoryError', 'KeyError', 'KeyboardInterrupt', 'LookupError', 'MemoryError', 'ModuleNotFoundError', 'NameError', 'None', 'NotADirectoryError', 'NotImplemented', 'NotImplementedError', 'OSError', 'OverflowError', 'PendingDeprecationWarning', 'PermissionError', 'ProcessLookupError', 'RecursionError', 'ReferenceError', 'ResourceWarning', 'RuntimeError', 'RuntimeWarning', 'StopAsyncIteration', 'StopIteration', 'SyntaxError', 'SyntaxWarning', 'SystemError', 'SystemExit', 'TabError', 'TimeoutError', 'True', 'TypeError', 'UnboundLocalError', 'UnicodeDecodeError', 'UnicodeEncodeError', 'UnicodeError', 'UnicodeTranslateError', 'UnicodeWarning', 'UserWarning', 'ValueError', 'Warning', 'WindowsError', 'ZeroDivisionError', '__IPYTHON__', '__build_class__', '__debug__', '__doc__', '__import__', '__loader__', '__name__', '__package__', '__spec__', 'abs', 'aiter', 'all', 'anext', 'any', 'ascii', 'bin', 'bool', 'breakpoint', 'bytearray', 'bytes', 'callable', 'chr', 'classmethod', 'compile', 'complex', 'copyright', 'credits', 'delattr', 'dict', 'dir', 'display', 'divmod', 'enumerate', 'eval', 'exec', 'execfile', 'filter', 'float', 'format', 'frozenset', 'get_ipython', 'getattr', 'globals', 'hasattr', 'hash', 'help', 'hex', 'id', 'input', 'int', 'isinstance', 'issubclass', 'iter', 'len', 'license', 'list', 'locals', 'map', 'max', 'memoryview', 'min', 'next', 'object', 'oct', 'open', 'ord', 'pow', 'print', 'property', 'range', 'repr', 'reversed', 'round', 'runfile', 'set', 'setattr', 'slice', 'sorted', 'staticmethod', 'str', 'sum', 'super', 'tuple', 'type', 'vars', 'zip']\n"
     ]
    }
   ],
   "source": [
    "import builtins\n",
    "print(dir(builtins))"
   ]
  },
  {
   "cell_type": "markdown",
   "id": "1076117d",
   "metadata": {},
   "source": [
    "#### Tuples are immutable\n",
    "In other words, \"immutability\" == \"never-changing\". Similarly,\n",
    "##### Exceptional Case\n",
    "if tuple contain list that list can be modify"
   ]
  },
  {
   "cell_type": "code",
   "execution_count": 16,
   "id": "c464a9ae",
   "metadata": {
    "ExecuteTime": {
     "end_time": "2023-05-06T18:07:29.169885Z",
     "start_time": "2023-05-06T18:07:29.147908Z"
    }
   },
   "outputs": [
    {
     "ename": "TypeError",
     "evalue": "'tuple' object does not support item assignment",
     "output_type": "error",
     "traceback": [
      "\u001b[1;31m---------------------------------------------------------------------------\u001b[0m",
      "\u001b[1;31mTypeError\u001b[0m                                 Traceback (most recent call last)",
      "Cell \u001b[1;32mIn[16], line 2\u001b[0m\n\u001b[0;32m      1\u001b[0m a\u001b[38;5;241m=\u001b[39m(\u001b[38;5;241m2\u001b[39m,\u001b[38;5;241m3\u001b[39m,\u001b[38;5;241m6\u001b[39m,\u001b[38;5;28;01mFalse\u001b[39;00m,\u001b[38;5;124m'\u001b[39m\u001b[38;5;124mLecture\u001b[39m\u001b[38;5;124m'\u001b[39m)\n\u001b[1;32m----> 2\u001b[0m \u001b[43ma\u001b[49m\u001b[43m[\u001b[49m\u001b[38;5;241;43m0\u001b[39;49m\u001b[43m]\u001b[49m\u001b[38;5;241m=\u001b[39m\u001b[38;5;241m1\u001b[39m\n",
      "\u001b[1;31mTypeError\u001b[0m: 'tuple' object does not support item assignment"
     ]
    }
   ],
   "source": [
    "a=(2,3,6,False,'Lecture')\n",
    "a[0]=1"
   ]
  },
  {
   "cell_type": "code",
   "execution_count": 22,
   "id": "986af4e5",
   "metadata": {
    "ExecuteTime": {
     "end_time": "2023-05-06T18:08:54.602973Z",
     "start_time": "2023-05-06T18:08:54.592654Z"
    }
   },
   "outputs": [
    {
     "data": {
      "text/plain": [
       "(2, 3, 6, False, [2, 2, 3])"
      ]
     },
     "execution_count": 22,
     "metadata": {},
     "output_type": "execute_result"
    }
   ],
   "source": [
    "a=(2,3,6,False,[1,2])\n",
    "a[4].append(3)\n",
    "a[4][0]=2\n",
    "a"
   ]
  },
  {
   "cell_type": "code",
   "execution_count": 23,
   "id": "1cd22a08",
   "metadata": {
    "ExecuteTime": {
     "end_time": "2023-05-06T18:14:56.966511Z",
     "start_time": "2023-05-06T18:14:56.955932Z"
    }
   },
   "outputs": [
    {
     "data": {
      "text/plain": [
       "tuple"
      ]
     },
     "execution_count": 23,
     "metadata": {},
     "output_type": "execute_result"
    }
   ],
   "source": [
    "a=1,2,3\n",
    "type(a)"
   ]
  },
  {
   "cell_type": "code",
   "execution_count": 26,
   "id": "209b0226",
   "metadata": {
    "ExecuteTime": {
     "end_time": "2023-05-06T18:15:39.936831Z",
     "start_time": "2023-05-06T18:15:39.928704Z"
    }
   },
   "outputs": [
    {
     "data": {
      "text/plain": [
       "list"
      ]
     },
     "execution_count": 26,
     "metadata": {},
     "output_type": "execute_result"
    }
   ],
   "source": [
    "t=(3,4,5,6,7,8,9)\n",
    "a,b,*c=t\n",
    "type(c)"
   ]
  },
  {
   "cell_type": "code",
   "execution_count": 29,
   "id": "07009f39",
   "metadata": {
    "ExecuteTime": {
     "end_time": "2023-05-06T18:17:35.691125Z",
     "start_time": "2023-05-06T18:17:35.681580Z"
    }
   },
   "outputs": [
    {
     "name": "stdout",
     "output_type": "stream",
     "text": [
      "<class 'int'>\n"
     ]
    },
    {
     "data": {
      "text/plain": [
       "tuple"
      ]
     },
     "execution_count": 29,
     "metadata": {},
     "output_type": "execute_result"
    }
   ],
   "source": [
    "print(type((1)))\n",
    "type((1,))"
   ]
  },
  {
   "cell_type": "code",
   "execution_count": 34,
   "id": "5121287b",
   "metadata": {
    "ExecuteTime": {
     "end_time": "2023-05-06T18:21:42.890825Z",
     "start_time": "2023-05-06T18:21:42.882233Z"
    }
   },
   "outputs": [
    {
     "data": {
      "text/plain": [
       "2"
      ]
     },
     "execution_count": 34,
     "metadata": {},
     "output_type": "execute_result"
    }
   ],
   "source": [
    "s='Kaar e kamal first and final aftar by drw'\n",
    "s.count('fi')"
   ]
  },
  {
   "cell_type": "code",
   "execution_count": 35,
   "id": "52e17c51",
   "metadata": {
    "ExecuteTime": {
     "end_time": "2023-05-06T18:23:37.269282Z",
     "start_time": "2023-05-06T18:23:37.255201Z"
    }
   },
   "outputs": [
    {
     "name": "stdout",
     "output_type": "stream",
     "text": [
      "Computer Programming is Fun\n"
     ]
    }
   ],
   "source": [
    "L=[\"Computer\",\"Programming\",\"is\",\"Fun\"]\n",
    "s=\" \".join(L)\n",
    "print(s)"
   ]
  },
  {
   "cell_type": "markdown",
   "id": "c682d12f",
   "metadata": {
    "ExecuteTime": {
     "end_time": "2023-05-06T18:27:17.697175Z",
     "start_time": "2023-05-06T18:27:17.678091Z"
    }
   },
   "source": [
    "#### Dictionary Comprehension:\n"
   ]
  },
  {
   "cell_type": "code",
   "execution_count": 38,
   "id": "9d2b3e2d",
   "metadata": {
    "ExecuteTime": {
     "end_time": "2023-05-06T18:36:43.765210Z",
     "start_time": "2023-05-06T18:36:43.754623Z"
    }
   },
   "outputs": [
    {
     "name": "stdout",
     "output_type": "stream",
     "text": [
      "{0: 0, 1: 1, 2: 4, 3: 9, 4: 16, 5: 25, 6: 36, 7: 49, 8: 64, 9: 81, 10: 100}\n"
     ]
    }
   ],
   "source": [
    "d={i:i*i for i in range(11)}\n",
    "print(d)"
   ]
  },
  {
   "cell_type": "code",
   "execution_count": 41,
   "id": "00492633",
   "metadata": {
    "ExecuteTime": {
     "end_time": "2023-05-06T18:37:22.027838Z",
     "start_time": "2023-05-06T18:37:22.014649Z"
    }
   },
   "outputs": [
    {
     "data": {
      "text/plain": [
       "{'A+': 4,\n",
       " 'A': 4,\n",
       " 'A-': 3.7,\n",
       " 'B+': 3.3,\n",
       " 'B': 3.0,\n",
       " 'B-': 2.7,\n",
       " 'C+': 2.3,\n",
       " 'C': 2.0,\n",
       " 'C-': 1.7,\n",
       " 'D+': 1.3,\n",
       " 'D': 1.0,\n",
       " 'F': 0.0}"
      ]
     },
     "execution_count": 41,
     "metadata": {},
     "output_type": "execute_result"
    }
   ],
   "source": [
    "gLetters=['A+','A','A-','B+','B','B-','C+','C','C-','D+','D','F']\n",
    "gPoints=[4,4,3.7,3.3,3.0,2.7,2.3,2.0,1.7,1.3,1.0,0.0]\n",
    "gDict=dict(zip(gLetters,gPoints))\n",
    "gDict"
   ]
  },
  {
   "cell_type": "code",
   "execution_count": 42,
   "id": "995db299",
   "metadata": {
    "ExecuteTime": {
     "end_time": "2023-05-06T18:37:45.056238Z",
     "start_time": "2023-05-06T18:37:45.048719Z"
    }
   },
   "outputs": [
    {
     "name": "stdout",
     "output_type": "stream",
     "text": [
      "{'A+': 4, 'A': 4, 'A-': 3.7, 'B+': 3.3, 'B': 3.0, 'B-': 2.7, 'C+': 2.3, 'C': 2.0, 'C-': 1.7, 'D+': 1.3, 'D': 1.0, 'F': 0.0}\n"
     ]
    }
   ],
   "source": [
    "gDict={k:v for k,v in zip(gLetters,gPoints)}\n",
    "print(gDict)"
   ]
  },
  {
   "cell_type": "code",
   "execution_count": 45,
   "id": "efcd44bd",
   "metadata": {
    "ExecuteTime": {
     "end_time": "2023-05-07T05:20:09.596379Z",
     "start_time": "2023-05-07T05:20:09.591798Z"
    }
   },
   "outputs": [
    {
     "name": "stdout",
     "output_type": "stream",
     "text": [
      "15\n",
      "30\n"
     ]
    }
   ],
   "source": [
    "# A Python program to demonstrate use\n",
    "# of packing\n",
    "\n",
    "# This function uses packing to sum\n",
    "# unknown number of arguments\n",
    "def mySum(*args):\n",
    "\treturn sum(args)\n",
    "\n",
    "# Driver code\n",
    "print(mySum(1, 2, 3, 4, 5))\n",
    "print(mySum(10, 20))\n"
   ]
  },
  {
   "cell_type": "code",
   "execution_count": 47,
   "id": "9d0b54a9",
   "metadata": {
    "ExecuteTime": {
     "end_time": "2023-05-07T05:20:48.670470Z",
     "start_time": "2023-05-07T05:20:48.662238Z"
    }
   },
   "outputs": [
    {
     "data": {
      "text/plain": [
       "5"
      ]
     },
     "execution_count": 47,
     "metadata": {},
     "output_type": "execute_result"
    }
   ],
   "source": [
    "# Error when len(args) != no of actual arguments\n",
    "# required by the function\n",
    "\n",
    "args = [0, 1, 4]\n",
    "\n",
    "\n",
    "def func(a, b, c):\n",
    "\treturn a + b + c\n",
    "\n",
    "\n",
    "# calling function with unpacking args\n",
    "func(*args)\n"
   ]
  },
  {
   "cell_type": "markdown",
   "id": "59a38d7d",
   "metadata": {},
   "source": [
    "#### Recursive Function Memoization with Function Decorator\n",
    "##### Conclusion:\n",
    "<ol>\n",
    "    <li> Recursive functions are simple to implement as compared to non-recursive functions (of course if \n",
    "        applicable).</li>\n",
    "<li> Recursive function can take a lot of time as compared to non-recursive functions but that can be \n",
    "handled by using the concept of Memoization and then the time consumption can be same or even \n",
    "better as compared to non-recursive functions.\n",
    "    </li>\n",
    "<li> Recursive functions can take a lot of memory (stack memory) if there are a large number of inner \n",
    "calls. And hence these are not preferred when they will be used for large number of inner calls. \n",
    "For example, to find a large Fibonacci Number, like 300th or bigger, it should not be preferred but \n",
    "usually we do not need such big Fibonacci Number. Also, in case of the GCD and Tower of Hanoi, \n",
    "these functions will not have large inner calls in general and hence recursive function is preferred \n",
    "    for such cases</li>\n",
    "</ol>"
   ]
  },
  {
   "cell_type": "code",
   "execution_count": 50,
   "id": "81415a2d",
   "metadata": {
    "ExecuteTime": {
     "end_time": "2023-05-07T05:29:10.476840Z",
     "start_time": "2023-05-07T05:29:10.465638Z"
    }
   },
   "outputs": [
    {
     "data": {
      "text/plain": [
       "573147844013817084101"
      ]
     },
     "execution_count": 50,
     "metadata": {},
     "output_type": "execute_result"
    }
   ],
   "source": [
    "from functools import lru_cache\n",
    "@lru_cache(maxsize=1000)\n",
    "def fibo_recursive(n):\n",
    "    if n==0:\n",
    "        return 1\n",
    "    if n==1:\n",
    "        return 1\n",
    "    if(n>1):\n",
    "         return fibo_recursive(n-1)+fibo_recursive(n-2)\n",
    "fibo_recursive(100)"
   ]
  },
  {
   "cell_type": "markdown",
   "id": "be8a30a0",
   "metadata": {},
   "source": [
    "#### Anonymous Functions & Sorting\n",
    "##### why should we use these Lambda Expressions?\n",
    "There can be three possible uses of Lambda Expressions:\n",
    "<li> When a function is of one single expression, writing it as Lambda Expression saves lines of code \n",
    "(not a very big advantage though).\n",
    "<li> When we need to pass a function as input argument of another function, Lambda Expressions are \n",
    "simpler. (Explained in example below)\n",
    "<li> The best use of Lambda Expressions is using it with some other built-in functions like sort, map, \n",
    "filter, reduce etc. (Explained in next topic)"
   ]
  },
  {
   "cell_type": "code",
   "execution_count": 51,
   "id": "50100f5d",
   "metadata": {
    "ExecuteTime": {
     "end_time": "2023-05-07T05:32:20.619670Z",
     "start_time": "2023-05-07T05:32:20.609706Z"
    }
   },
   "outputs": [
    {
     "data": {
      "text/plain": [
       "15.0"
      ]
     },
     "execution_count": 51,
     "metadata": {},
     "output_type": "execute_result"
    }
   ],
   "source": [
    "z=(lambda x,y: (x+y)/2)(10,20)\n",
    "z"
   ]
  },
  {
   "cell_type": "markdown",
   "id": "59d4a436",
   "metadata": {},
   "source": [
    "#### Sorting a Tuple:\n",
    "Tuple is immutable and unchangeable data type in Python. When it is unchangeable, can we apply sorting \n",
    "on it? Let's apply the built-in sort() function of Python on a tuple and see the results:"
   ]
  },
  {
   "cell_type": "code",
   "execution_count": 52,
   "id": "4518f7db",
   "metadata": {
    "ExecuteTime": {
     "end_time": "2023-05-07T05:38:28.304904Z",
     "start_time": "2023-05-07T05:38:28.300023Z"
    }
   },
   "outputs": [
    {
     "name": "stdout",
     "output_type": "stream",
     "text": [
      "[2, 3, 5, 7, 9, 12, 19]\n",
      "<class 'tuple'>\n",
      "<class 'list'>\n"
     ]
    }
   ],
   "source": [
    "nums=(9,12,3,19,2,5,7)\n",
    "s=sorted(nums)\n",
    "print(s)\n",
    "print(type(nums))\n",
    "print(type(s))"
   ]
  },
  {
   "cell_type": "markdown",
   "id": "6cb57aea",
   "metadata": {},
   "source": [
    "You can clearly see from the output that sort() method can be applied on a tuple but the result will be \n",
    "a sorted list. See carefully the data types of the two variables. <br>\n",
    "Also note that the original Tuple is unchanged. Now what if we want to have result as sorted tuple? We \n",
    "can use Python casting feature to cast a list to a tuple as described here:"
   ]
  },
  {
   "cell_type": "markdown",
   "id": "7ab560ec",
   "metadata": {},
   "source": [
    "#### Sorting a set\n",
    "Again, there is no sorting method in set class and you can always use different castings as explained in \n",
    "the case of tuple"
   ]
  },
  {
   "cell_type": "markdown",
   "id": "9f70253d",
   "metadata": {},
   "source": [
    "#### Sorting a Dictionary:\n",
    "A dictionary is a collection of key-value pairs. We can apply python built-in sort() function on \n",
    "dictionary and the results will be a list of sorted keys.\n",
    "```python\n",
    "products={'walnuts':1500,'cashew':1800,'almond':2000,'pine nuts':8000}\n",
    "s=sorted(products)\n",
    "print(s)\n",
    "```\n",
    "output\n",
    "['almond', 'cashew', 'pine nuts', 'walnuts']\n",
    "```python\n",
    "s=sorted(products.values())\n",
    "```\n",
    "<br>\n",
    "We can get the sorted value as well instead of the keys by using values() method of dictionary as:\n",
    "<br>\n",
    "s=sorted(products.values())\n",
    "\n",
    "<label style='color:firebrick;background-color: #e7e7e7;font-weight: 1000;'>Important:</label>\n",
    "<br>\n",
    "There is also a way to get both keys and value of a dictionary by using items() method of the dictionary \n",
    "class. The output will be a list of tuples where each tuple has two elements; first key and second value and \n",
    "list will be sorted based on keys. See the following code:\n",
    "```python\n",
    "products={'walnuts':1500,'cashew':1800,'almond':2000,'pine nuts':8000}\n",
    "s=sorted(products.items())\n",
    "print(s)\n",
    "```\n",
    "output\n",
    "```python\n",
    "[('almond', 2000), ('cashew', 1800), ('pine nuts', 8000), ('walnuts', 1500)]\n",
    "```"
   ]
  },
  {
   "cell_type": "code",
   "execution_count": 56,
   "id": "13baa540",
   "metadata": {
    "ExecuteTime": {
     "end_time": "2023-05-07T06:34:54.098284Z",
     "start_time": "2023-05-07T06:34:54.090511Z"
    }
   },
   "outputs": [
    {
     "name": "stdout",
     "output_type": "stream",
     "text": [
      "['UET', 'Python', 'Computer', 'Pakistan', 'Programming', 'Mechatronics']\n"
     ]
    }
   ],
   "source": [
    "a=['Computer','Programming','Python','Pakistan','UET','Mechatronics']\n",
    "b=sorted(a,key=len)\n",
    "print(b)"
   ]
  },
  {
   "cell_type": "markdown",
   "id": "a8a25ad1",
   "metadata": {},
   "source": [
    "#### sorting list of dictionary\n",
    "we can sort list of dictionary by sorted function with key parameter"
   ]
  },
  {
   "cell_type": "code",
   "execution_count": 58,
   "id": "3b43b788",
   "metadata": {
    "ExecuteTime": {
     "end_time": "2023-05-07T06:36:00.856824Z",
     "start_time": "2023-05-07T06:36:00.848002Z"
    }
   },
   "outputs": [],
   "source": [
    "student1={\n",
    " 'Reg':'2018-MC-01',\n",
    " 'Name':'Muhammad Usman',\n",
    " 'Sec':'A',\n",
    " 'Courses':['CP','ED','EM']\n",
    " }\n",
    "student2={\n",
    " 'Reg':'2018-MC-02',\n",
    " 'Name':'Tahir Mehmood',\n",
    " 'Sec':'A',\n",
    " 'Courses':['CP','DLD','EM']\n",
    " }\n",
    "student3={\n",
    " 'Reg':'2018-MC-03',\n",
    " 'Name':'Muhammad Bilal',\n",
    " 'Sec':'A',\n",
    " 'Courses':['VCA','ED','EM']\n",
    " }\n",
    "allStudents=[student1,student2,student3]\n",
    "# allStudents.sort() # Will generate an error"
   ]
  },
  {
   "cell_type": "code",
   "execution_count": 66,
   "id": "15bcad5d",
   "metadata": {
    "ExecuteTime": {
     "end_time": "2023-05-07T06:38:23.987904Z",
     "start_time": "2023-05-07T06:38:23.978380Z"
    }
   },
   "outputs": [
    {
     "name": "stdout",
     "output_type": "stream",
     "text": [
      "{'Reg': '2018-MC-03', 'Name': 'Muhammad Bilal', 'Sec': 'A', 'Courses': ['VCA', 'ED', 'EM']}\n",
      "{'Reg': '2018-MC-01', 'Name': 'Muhammad Usman', 'Sec': 'A', 'Courses': ['CP', 'ED', 'EM']}\n",
      "{'Reg': '2018-MC-02', 'Name': 'Tahir Mehmood', 'Sec': 'A', 'Courses': ['CP', 'DLD', 'EM']}\n"
     ]
    }
   ],
   "source": [
    "s=sorted(allStudents,key=lambda x: x['Name'])\n",
    "for e in s:\n",
    "    print(e)"
   ]
  },
  {
   "cell_type": "markdown",
   "id": "eebb799d",
   "metadata": {},
   "source": [
    "### Multilevel Sorting"
   ]
  },
  {
   "cell_type": "code",
   "execution_count": 67,
   "id": "14ad8a8a",
   "metadata": {
    "ExecuteTime": {
     "end_time": "2023-05-07T06:38:34.698106Z",
     "start_time": "2023-05-07T06:38:34.691955Z"
    }
   },
   "outputs": [
    {
     "name": "stdout",
     "output_type": "stream",
     "text": [
      "{'Reg': '2018-MC-01', 'Name': 'Muhammad Usman', 'Sec': 'A', 'Courses': ['CP', 'ED', 'EM']}\n",
      "{'Reg': '2018-MC-02', 'Name': 'Tahir Mehmood', 'Sec': 'A', 'Courses': ['CP', 'DLD', 'EM']}\n",
      "{'Reg': '2018-MC-03', 'Name': 'Muhammad Bilal', 'Sec': 'A', 'Courses': ['VCA', 'ED', 'EM']}\n"
     ]
    }
   ],
   "source": [
    "s=sorted(allStudents,key=lambda x: (x['Courses'][0],x['Name']))\n",
    "for e in s:\n",
    "    print(e)"
   ]
  },
  {
   "cell_type": "markdown",
   "id": "7595f55b",
   "metadata": {},
   "source": [
    "#### What is iterator?\n",
    "##### Iterator VS Iterable\n",
    "This is really important to know the difference between Iterable and Iterator. We define an Iterable as a \n",
    "datatype that could be directly iterated over, using a <span style='color:firebrick;background-color:#D3D3D3'><b> for loop</b></span>. The examples include List, Tuple, Set, \n",
    "Dictionary etc. On the other hand, the Iterators can also be iterated over, directly with a <span style='color:firebrick;background-color:#D3D3D3'><b> for loop</b></span>, but \n",
    "only once. Once an iterator has produced all its elements (in a <span style='color:firebrick;background-color:#D3D3D3'><b> for loop</b></span> or in some other function like \n",
    "<span style='color:firebrick;background-color:#D3D3D3'><b> sum</b></span> it will be exhausted and will become empty.\n",
    "There is no class directly with the name Iterable or Iterator. The objects of some class e.g., List, can be \n",
    "Iterable. So a List object is an object of List class but is an Iterable. Similarly, a generator is the object of \n",
    "Generator class and is an iterator.\n",
    "Let's see different methods or functions available in some iterable and iterator."
   ]
  },
  {
   "cell_type": "code",
   "execution_count": 80,
   "id": "7755529e",
   "metadata": {
    "ExecuteTime": {
     "end_time": "2023-05-07T06:49:23.111010Z",
     "start_time": "2023-05-07T06:49:23.101879Z"
    }
   },
   "outputs": [
    {
     "data": {
      "text/plain": [
       "[('CP2',), ('ES',), ('MoM',)]"
      ]
     },
     "execution_count": 80,
     "metadata": {},
     "output_type": "execute_result"
    }
   ],
   "source": [
    "subj=['Mech','CP2','ES','MoM']\n",
    "CH=[3,2,4,3]\n",
    "z=zip(subj)\n",
    "z.__next__()\n",
    "list(z)"
   ]
  },
  {
   "cell_type": "markdown",
   "id": "2a4fd361",
   "metadata": {},
   "source": [
    "<table>\n",
    "  <tr>\n",
    "    <th>Company</th>\n",
    "    <th>Contact</th>\n",
    "    <th>Country</th>\n",
    "  </tr>\n",
    "  <tr>\n",
    "    <td>Alfreds Futterkiste</td>\n",
    "    <td>Maria Anders</td>\n",
    "    <td>Germany</td>\n",
    "  </tr>\n",
    "  <tr>\n",
    "    <td>Centro comercial Moctezuma</td>\n",
    "    <td>Francisco Chang</td>\n",
    "    <td>Mexico</td>\n",
    "  </tr>\n",
    "</table>"
   ]
  },
  {
   "cell_type": "code",
   "execution_count": null,
   "id": "fd405116",
   "metadata": {
    "ExecuteTime": {
     "start_time": "2023-05-07T07:38:42.857Z"
    }
   },
   "outputs": [],
   "source": []
  },
  {
   "cell_type": "code",
   "execution_count": null,
   "id": "2c629c51",
   "metadata": {},
   "outputs": [],
   "source": []
  }
 ],
 "metadata": {
  "_draft": {
   "nbviewer_url": "https://gist.github.com/MuhammadAmmar26627/63cd6015c26be7a209336e0fdda55cec"
  },
  "gist": {
   "data": {
    "description": "python_practice_manuals.ipynb",
    "public": true
   },
   "id": "63cd6015c26be7a209336e0fdda55cec"
  },
  "kernelspec": {
   "display_name": "Python 3 (ipykernel)",
   "language": "python",
   "name": "python3"
  },
  "language_info": {
   "codemirror_mode": {
    "name": "ipython",
    "version": 3
   },
   "file_extension": ".py",
   "mimetype": "text/x-python",
   "name": "python",
   "nbconvert_exporter": "python",
   "pygments_lexer": "ipython3",
   "version": "3.11.3"
  },
  "toc": {
   "base_numbering": 1,
   "nav_menu": {},
   "number_sections": true,
   "sideBar": true,
   "skip_h1_title": false,
   "title_cell": "Table of Contents",
   "title_sidebar": "Contents",
   "toc_cell": true,
   "toc_position": {
    "height": "421.333px",
    "left": "599px",
    "top": "142px",
    "width": "307.99px"
   },
   "toc_section_display": true,
   "toc_window_display": false
  },
  "varInspector": {
   "cols": {
    "lenName": 16,
    "lenType": 16,
    "lenVar": 40
   },
   "kernels_config": {
    "python": {
     "delete_cmd_postfix": "",
     "delete_cmd_prefix": "del ",
     "library": "var_list.py",
     "varRefreshCmd": "print(var_dic_list())"
    },
    "r": {
     "delete_cmd_postfix": ") ",
     "delete_cmd_prefix": "rm(",
     "library": "var_list.r",
     "varRefreshCmd": "cat(var_dic_list()) "
    }
   },
   "types_to_exclude": [
    "module",
    "function",
    "builtin_function_or_method",
    "instance",
    "_Feature"
   ],
   "window_display": false
  }
 },
 "nbformat": 4,
 "nbformat_minor": 5
}
