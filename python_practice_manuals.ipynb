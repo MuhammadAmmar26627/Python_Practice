{
 "cells": [
  {
   "cell_type": "markdown",
   "id": "0ad50b69",
   "metadata": {
    "toc": true
   },
   "source": [
    "<h1>Table of Contents<span class=\"tocSkip\"></span></h1>\n",
    "<div class=\"toc\"><ul class=\"toc-item\"><li><span><a href=\"#Git\" data-toc-modified-id=\"Git-1\"><span class=\"toc-item-num\">1&nbsp;&nbsp;</span>Git</a></span><ul class=\"toc-item\"><li><span><a href=\"#Git-important-commands-related-to-github\" data-toc-modified-id=\"Git-important-commands-related-to-github-1.1\"><span class=\"toc-item-num\">1.1&nbsp;&nbsp;</span>Git important commands related to github</a></span><ul class=\"toc-item\"><li><span><a href=\"#git-status\" data-toc-modified-id=\"git-status-1.1.1\"><span class=\"toc-item-num\">1.1.1&nbsp;&nbsp;</span>git status</a></span></li><li><span><a href=\"#git-log\" data-toc-modified-id=\"git-log-1.1.2\"><span class=\"toc-item-num\">1.1.2&nbsp;&nbsp;</span>git log</a></span></li><li><span><a href=\"#git-add-(file_name)\" data-toc-modified-id=\"git-add-(file_name)-1.1.3\"><span class=\"toc-item-num\">1.1.3&nbsp;&nbsp;</span>git add (file_name)</a></span></li><li><span><a href=\"#git-add-.\" data-toc-modified-id=\"git-add-.-1.1.4\"><span class=\"toc-item-num\">1.1.4&nbsp;&nbsp;</span>git add .</a></span></li><li><span><a href=\"#git-commit--m-'add-commit-message'\" data-toc-modified-id=\"git-commit--m-'add-commit-message'-1.1.5\"><span class=\"toc-item-num\">1.1.5&nbsp;&nbsp;</span>git commit -m 'add commit message'</a></span></li><li><span><a href=\"#git-diff\" data-toc-modified-id=\"git-diff-1.1.6\"><span class=\"toc-item-num\">1.1.6&nbsp;&nbsp;</span>git diff</a></span></li><li><span><a href=\"#git-diff---staged\" data-toc-modified-id=\"git-diff---staged-1.1.7\"><span class=\"toc-item-num\">1.1.7&nbsp;&nbsp;</span>git diff --staged</a></span></li><li><span><a href=\"#git-checkout-file-name\" data-toc-modified-id=\"git-checkout-file-name-1.1.8\"><span class=\"toc-item-num\">1.1.8&nbsp;&nbsp;</span>git checkout file name</a></span></li><li><span><a href=\"#git-checkout--f\" data-toc-modified-id=\"git-checkout--f-1.1.9\"><span class=\"toc-item-num\">1.1.9&nbsp;&nbsp;</span>git checkout -f</a></span></li><li><span><a href=\"#touch-(file-name)-/-touch-.gitignore\" data-toc-modified-id=\"touch-(file-name)-/-touch-.gitignore-1.1.10\"><span class=\"toc-item-num\">1.1.10&nbsp;&nbsp;</span>touch (file name) / touch .gitignore</a></span></li><li><span><a href=\"#git-remote-add-origin-URL\" data-toc-modified-id=\"git-remote-add-origin-URL-1.1.11\"><span class=\"toc-item-num\">1.1.11&nbsp;&nbsp;</span>git remote add origin URL</a></span></li><li><span><a href=\"#git-remote\" data-toc-modified-id=\"git-remote-1.1.12\"><span class=\"toc-item-num\">1.1.12&nbsp;&nbsp;</span>git remote</a></span></li><li><span><a href=\"#git-remote--v\" data-toc-modified-id=\"git-remote--v-1.1.13\"><span class=\"toc-item-num\">1.1.13&nbsp;&nbsp;</span>git remote -v</a></span></li><li><span><a href=\"#ls\" data-toc-modified-id=\"ls-1.1.14\"><span class=\"toc-item-num\">1.1.14&nbsp;&nbsp;</span>ls</a></span></li><li><span><a href=\"#pwd\" data-toc-modified-id=\"pwd-1.1.15\"><span class=\"toc-item-num\">1.1.15&nbsp;&nbsp;</span>pwd</a></span></li><li><span><a href=\"#cd-(path)\" data-toc-modified-id=\"cd-(path)-1.1.16\"><span class=\"toc-item-num\">1.1.16&nbsp;&nbsp;</span>cd (path)</a></span></li></ul></li><li><span><a href=\"#Git-important-commands-general\" data-toc-modified-id=\"Git-important-commands-general-1.2\"><span class=\"toc-item-num\">1.2&nbsp;&nbsp;</span>Git important commands general</a></span><ul class=\"toc-item\"><li><span><a href=\"#git-rm-(file-name)\" data-toc-modified-id=\"git-rm-(file-name)-1.2.1\"><span class=\"toc-item-num\">1.2.1&nbsp;&nbsp;</span>git rm (file name)</a></span></li><li><span><a href=\"#git-mv-(filename)-(newfile-name)\" data-toc-modified-id=\"git-mv-(filename)-(newfile-name)-1.2.2\"><span class=\"toc-item-num\">1.2.2&nbsp;&nbsp;</span>git mv (filename) (newfile name)</a></span></li></ul></li></ul></li></ul></div>"
   ]
  },
  {
   "cell_type": "markdown",
   "id": "7ac4b271",
   "metadata": {},
   "source": [
    "# Git\n",
    "## Git important commands related to github"
   ]
  },
  {
   "cell_type": "markdown",
   "id": "17ad4e52",
   "metadata": {},
   "source": [
    "### git status\n",
    "it is use to show the status\n",
    "### git log \n",
    "it is use to show previous commit\n",
    "### git add (file_name)\n",
    "track specific file\n",
    "### git add .\n",
    "track all files\n",
    "### git commit -m 'add commit message'\n",
    "submit all changing with message\n",
    "### git diff\n",
    "git diff show staged file vs current file\n",
    "### git diff --staged\n",
    "git diff show staged file vs last commit\n",
    "### git checkout file name\n",
    "return modified file to staged file and remove all changes in modified files\n",
    "### git checkout -f\n",
    "return to last commit and remove all changings \n",
    "### touch (file name) / touch .gitignore\n",
    "use to create file in linux\n",
    "### git remote add origin URL\n",
    "add remote origin to push\n",
    "### git remote\n",
    "to check remote origins\n",
    "### git remote -v\n",
    "to check local and remote origins\n",
    "### ls\n",
    "use to list items or file in folder\n",
    "### pwd\n",
    "current working directory\n",
    "### cd (path)\n",
    "to swith pwd"
   ]
  },
  {
   "cell_type": "markdown",
   "id": "6043e286",
   "metadata": {},
   "source": [
    "<hr>\n",
    "\n",
    "## Git important commands general"
   ]
  },
  {
   "cell_type": "markdown",
   "id": "509f1a29",
   "metadata": {},
   "source": [
    "### git rm (file name)\n",
    "remove file\n",
    "### git mv (filename) (newfile name)\n",
    "change file name or dir"
   ]
  },
  {
   "cell_type": "code",
   "execution_count": null,
   "id": "c15ac1da",
   "metadata": {},
   "outputs": [],
   "source": []
  }
 ],
 "metadata": {
  "gist": {
   "data": {
    "description": "python_practice_manuals.ipynb",
    "public": false
   },
   "id": ""
  },
  "kernelspec": {
   "display_name": "Python 3 (ipykernel)",
   "language": "python",
   "name": "python3"
  },
  "language_info": {
   "codemirror_mode": {
    "name": "ipython",
    "version": 3
   },
   "file_extension": ".py",
   "mimetype": "text/x-python",
   "name": "python",
   "nbconvert_exporter": "python",
   "pygments_lexer": "ipython3",
   "version": "3.11.3"
  },
  "toc": {
   "base_numbering": 1,
   "nav_menu": {},
   "number_sections": true,
   "sideBar": true,
   "skip_h1_title": false,
   "title_cell": "Table of Contents",
   "title_sidebar": "Contents",
   "toc_cell": true,
   "toc_position": {
    "height": "421.333px",
    "left": "599px",
    "top": "142px",
    "width": "307.99px"
   },
   "toc_section_display": true,
   "toc_window_display": false
  },
  "varInspector": {
   "cols": {
    "lenName": 16,
    "lenType": 16,
    "lenVar": 40
   },
   "kernels_config": {
    "python": {
     "delete_cmd_postfix": "",
     "delete_cmd_prefix": "del ",
     "library": "var_list.py",
     "varRefreshCmd": "print(var_dic_list())"
    },
    "r": {
     "delete_cmd_postfix": ") ",
     "delete_cmd_prefix": "rm(",
     "library": "var_list.r",
     "varRefreshCmd": "cat(var_dic_list()) "
    }
   },
   "types_to_exclude": [
    "module",
    "function",
    "builtin_function_or_method",
    "instance",
    "_Feature"
   ],
   "window_display": false
  }
 },
 "nbformat": 4,
 "nbformat_minor": 5
}
